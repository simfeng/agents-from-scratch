{
 "cells": [
  {
   "cell_type": "markdown",
   "metadata": {},
   "source": [
    "# 智能体（AI Agents）\n",
    "\n",
    "Agent 这个词表示一个可以执行任务的实体，它可以是人类，也可以是一个程序。宽泛的讲，我们使用的任何软件都可以看作是一个 Agent，比如：\n",
    "\n",
    "- 浏览器：你通过浏览器上网，浏览器就是一个 Agent，它可以帮助你找到你想要的信息；\n",
    "- 打车软件：你通过打车软件打车，打车软件就是一个 Agent，它可以帮助你找到你想要的车；\n",
    "\n",
    "这些既然都是 Agent，那之前为什么他们没有让 Agent 这个概念流行起来呢？因为他们没有“大脑”，或者说，他们没有“思考”的能力，他们更多的是根据预设的规则来执行任务，叫他们“工具”更合适。\n",
    "\n",
    "比如：当你在浏览器输入一个网址然后点击跳转，他会直接跳转到目标网站，不会思考为什么这个网站会是你想要的，需不需要再找几个类似的网站给你；\n",
    "\n",
    "直到大语言模型（Large Language Model, LLM）的出现，我们终于有了一个可以“思考”的工具，终于可以构建一个可以“思考”的 Agent 了，大家给他起了个名字，叫 AI Agent，翻译成中文就是“智能体”。以后，我们使用 Agent 来指代 AI Agent。\n",
    "\n",
    "让 LLM 代替人的角色来思考，把那些没有“大脑”的工具用起来，就是构建 AI Agent 的思路。\n",
    "\n",
    "构建智能体的第一步，需要先明确这个智能体要完成的任务是什么（注意，不是解决什么问题，而是完成什么任务）。\n",
    "\n",
    "\n"
   ]
  },
  {
   "cell_type": "markdown",
   "metadata": {},
   "source": [
    "接下来，我们将逐步探索基于大模型的应用，是如何一步步从简单的Prompt应用，一步步进化到智能的Agents。中间涉及到代码的部分，我们会使用 [LangChain](https://www.langchain.com/) 和 [LangGraph](https://langchain-ai.github.io/langgraph/) 来实现。"
   ]
  },
  {
   "cell_type": "markdown",
   "metadata": {},
   "source": [
    "## Chat models\n",
    "\n",
    "[Chat models](https://python.langchain.com/docs/concepts/chat_models/) 是大语言模型应用的基础，通常来说，我们通过API来调用它们，他们接受一组消息作为输入，并返回一个消息作为输出。\n",
    "\n",
    "LangChain 提供了标准化的接口来使用 Chat Models，可以让我们很轻松的使用和调整不同供应商所提供的模型。\n",
    "\n",
    "运行下面的代码，需要申请 OPENAI_API_KEY，并设置环境变量，可以通过 https://github.com/chatanywhere/GPT_API_free 免费申请。"
   ]
  },
  {
   "cell_type": "code",
   "execution_count": 1,
   "metadata": {},
   "outputs": [
    {
     "name": "stdout",
     "output_type": "stream",
     "text": [
      "我们使用的模型是： qwen-plus-2025-04-28\n"
     ]
    }
   ],
   "source": [
    "import os\n",
    "from dotenv import load_dotenv\n",
    "load_dotenv(\"../.env\", override=True)\n",
    "model_name = os.getenv(\"OPENAI_MODEL\")\n",
    "model_provider = os.getenv(\"MODEL_PROVIDER\")\n",
    "print(f\"我们使用的模型是： {model_name}\")"
   ]
  },
  {
   "cell_type": "code",
   "execution_count": 2,
   "metadata": {},
   "outputs": [],
   "source": [
    "from langchain.chat_models import init_chat_model\n",
    "llm = init_chat_model(model_name, model_provider=model_provider, temperature=0)"
   ]
  },
  {
   "cell_type": "markdown",
   "metadata": {},
   "source": [
    "## 运行模型\n",
    "\n",
    "初始化模型后（实际上是初始化的模型供应商的API），就可以开始调用模型了。\n",
    "\n",
    "`init_chat_model` 模块提供了标准化使用 chat models 的方法，包括：\n",
    "- `invoke()`: 输入一条信息，输出一条信息；\n",
    "- `stream()`: 流式输出模型产生的内容。"
   ]
  },
  {
   "cell_type": "code",
   "execution_count": 3,
   "metadata": {},
   "outputs": [],
   "source": [
    "result = llm.invoke('what is agent')"
   ]
  },
  {
   "cell_type": "code",
   "execution_count": 4,
   "metadata": {},
   "outputs": [
    {
     "name": "stdout",
     "output_type": "stream",
     "text": [
      "<class 'langchain_core.messages.ai.AIMessage'>\n",
      "The term **\"agent\"** can mean different things depending on the context. Here are some common definitions:\n",
      "\n",
      "---\n",
      "\n",
      "### 1. **General Definition**\n",
      "An **agent** is a person or entity that can act on behalf of someone else (the principal), with the authority to make decisions or perform actions.\n",
      "\n",
      "- Example: A real estate agent works on behalf of a buyer or seller to help buy or sell property.\n",
      "\n",
      "---\n",
      "\n",
      "### 2. **In Artificial Intelligence (AI)**\n",
      "An **AI agent** is a system or program that can perceive its environment, make decisions, and take actions autonomously to achieve specific goals.\n",
      "\n",
      "#### Types of AI Agents:\n",
      "- **Simple Reflex Agents**: React based on current input.\n",
      "- **Model-Based Reflex Agents**: Use internal state (memory) to make decisions.\n",
      "- **Goal-Based Agents**: Make decisions to achieve certain goals.\n",
      "- **Utility-Based Agents**: Choose actions that maximize utility (benefit).\n",
      "- **Learning Agents**: Improve performance over time through learning (e.g., machine learning).\n",
      "\n",
      "Example: A self-driving car uses AI agents to navigate roads and avoid obstacles.\n",
      "\n",
      "---\n",
      "\n",
      "### 3. **In Business or Law**\n",
      "A **business agent** or **legal agent** is someone authorized to represent another party in legal or business matters.\n",
      "\n",
      "- Example: Power of attorney allows one person to act as an agent for another in legal decisions.\n",
      "\n",
      "---\n",
      "\n",
      "### 4. **In Marketing or Sales**\n",
      "A **sales agent** represents a company by selling products or services, often working on commission.\n",
      "\n",
      "- Example: Travel agents book trips on behalf of clients.\n",
      "\n",
      "---\n",
      "\n",
      "### 5. **In Software Development**\n",
      "A **software agent** is a program that performs automated tasks on behalf of a user or another program.\n",
      "\n",
      "- Example: Chatbots, web crawlers, or task automation tools.\n",
      "\n",
      "---\n",
      "\n",
      "### 6. **In Entertainment Industry**\n",
      "An **agent** represents actors, musicians, or other performers, helping them find jobs and negotiate contracts.\n",
      "\n",
      "- Example: Talent agents work with celebrities to secure roles or gigs.\n",
      "\n",
      "---\n",
      "\n",
      "Would you like a more detailed explanation in a specific context?\n"
     ]
    }
   ],
   "source": [
    "print(type(result))\n",
    "print(result.content)"
   ]
  },
  {
   "cell_type": "code",
   "execution_count": 5,
   "metadata": {},
   "outputs": [],
   "source": [
    "stream_result = llm.stream('what is agent')"
   ]
  },
  {
   "cell_type": "code",
   "execution_count": 6,
   "metadata": {},
   "outputs": [
    {
     "name": "stdout",
     "output_type": "stream",
     "text": [
      "\n",
      "The\n",
      " term\n",
      " **\n",
      "\"\n",
      "agent\"** can\n",
      " mean different things depending\n",
      " on the context.\n",
      " Here are some common\n",
      " definitions:\n",
      "\n",
      "---\n",
      "\n",
      "###\n",
      " 1. **\n",
      "General Definition (Human\n",
      " Context)**\n",
      "An\n",
      " **agent** is\n",
      " a person who acts\n",
      " on behalf of another\n",
      " person or organization,\n",
      " with the authority to\n",
      " make decisions or take\n",
      " actions.\n",
      "\n",
      "- **\n",
      "Example**: A real\n",
      " estate agent helps you\n",
      " buy or sell property\n",
      ".\n",
      "- **Example\n",
      "**: An insurance agent\n",
      " sells insurance policies and\n",
      " represents an insurance company\n",
      ".\n",
      "\n",
      "---\n",
      "\n",
      "### \n",
      "2. **In\n",
      " Business and Law**\n",
      "\n",
      "An **agent**\n",
      " is someone authorized to\n",
      " act for another party\n",
      " (called the principal\n",
      ") in legal or\n",
      " business matters.\n",
      "\n",
      "-\n",
      " This is often governed\n",
      " by **agency law\n",
      "**, where the agent\n",
      " has a legal duty\n",
      " to act in the\n",
      " best interest of the\n",
      " principal.\n",
      "\n",
      "---\n",
      "\n",
      "###\n",
      " 3. **\n",
      "In Artificial Intelligence (\n",
      "AI)**\n",
      "An\n",
      " **AI agent**\n",
      " is a software program\n",
      " or system that can\n",
      " perceive its environment,\n",
      " make decisions, and\n",
      " perform actions autonomously\n",
      " or semi-autonom\n",
      "ously.\n",
      "\n",
      "- AI\n",
      " agents can be simple\n",
      " (like a chat\n",
      "bot) or complex\n",
      " (like a self\n",
      "-driving car).\n",
      "-\n",
      " They often use sensors\n",
      " (input data),\n",
      " decision-making models (\n",
      "algorithms), and\n",
      " actuators (output\n",
      " actions).\n",
      "\n",
      "#### Types\n",
      " of AI Agents:\n",
      "\n",
      "- **Simple Reflex\n",
      " Agents**\n",
      "- **\n",
      "Model-Based Reflex Agents\n",
      "**\n",
      "- **Goal\n",
      "-Based Agents**\n",
      "-\n",
      " **Utility-Based Agents\n",
      "**\n",
      "- **Learning\n",
      " Agents**\n",
      "\n",
      "---\n",
      "\n",
      "###\n",
      " 4. **\n",
      "In Computing / Distributed\n",
      " Systems**\n",
      "A **\n",
      "software agent** is\n",
      " a program that performs\n",
      " tasks autonomously on\n",
      " behalf of a user\n",
      " or another program.\n",
      "\n",
      "\n",
      "- Examples: web\n",
      " crawlers, bots\n",
      ", personal assistants like\n",
      " Siri or Alexa.\n",
      "\n",
      "\n",
      "---\n",
      "\n",
      "### 5\n",
      ". **In Biology\n",
      " or Science**\n",
      "An\n",
      " **agent** can\n",
      " refer to something that\n",
      " causes a particular effect\n",
      ", such as a\n",
      " disease or chemical reaction\n",
      ".\n",
      "\n",
      "- **Example\n",
      "**: A pathogen\n",
      " is an infectious agent\n",
      ".\n",
      "- **Example\n",
      "**: A cleaning agent\n",
      " is a chemical used\n",
      " to clean surfaces.\n",
      "\n",
      "\n",
      "---\n",
      "\n",
      "Would you like\n",
      " to know more about\n",
      " a specific type of\n",
      " agent (e.g\n",
      "., AI agent,\n",
      " real estate agent,\n",
      " legal agent)?\n",
      "\n"
     ]
    }
   ],
   "source": [
    "for m in llm.stream(\"what is agent\"):\n",
    "    print(m.content)"
   ]
  },
  {
   "cell_type": "markdown",
   "metadata": {},
   "source": [
    "## Tools （工具）\n",
    "\n",
    "[Tools](https://python.langchain.com/docs/concepts/tools/) 是智能体执行任务时可以调用的工具。由LLM来决定是否使用工具，使用哪个工具，以及如何使用工具。\n",
    "\n",
    "LLM选择好工具后，会有专门的代码来执行工具调用，并返回结果。\n"
   ]
  },
  {
   "cell_type": "markdown",
   "metadata": {},
   "source": [
    "### 定义工具\n",
    "\n",
    "LangChain 提供了 `@tool` 装饰器来定义工具，它会自动从函数的定义中提取函数名、描述、参数等信息。"
   ]
  },
  {
   "cell_type": "code",
   "execution_count": 7,
   "metadata": {},
   "outputs": [
    {
     "name": "stdout",
     "output_type": "stream",
     "text": [
      "<class 'langchain_core.tools.structured.StructuredTool'>\n",
      "write_email\n",
      "撰写并发送邮件\n",
      "{'to': {'title': 'To', 'type': 'string'}, 'subject': {'title': 'Subject', 'type': 'string'}, 'content': {'title': 'Content', 'type': 'string'}}\n"
     ]
    }
   ],
   "source": [
    "from langchain.tools import tool\n",
    "\n",
    "@tool\n",
    "def write_email(to: str, subject: str, content: str) -> str:\n",
    "    \"\"\"撰写并发送邮件\"\"\"\n",
    "    return f\"邮件已发送给 {to}，主题为 {subject}，内容为 {content}\"\n",
    "\n",
    "print(type(write_email))\n",
    "print(write_email.name)\n",
    "print(write_email.description)\n",
    "print(write_email.args)"
   ]
  },
  {
   "cell_type": "markdown",
   "metadata": {},
   "source": [
    "### 使用工具\n",
    "\n",
    "通过 `@tool` 装饰器定义的工具，可以被LLM使用，使用的方法是：\n",
    "1. 通过 `bind_tools` 方法将工具绑定到模型上；\n",
    "2. 模型会根据任务的描述，决定是否使用工具，使用哪个工具，以及具体的参数。\n",
    "3. 如果使用工具，则需要在代码中执行工具函数，并获取结果（这一步与大语言模型无关）。\n",
    "\n",
    "大模型的供应商们（如 OpenAI），还提供了一些重要的参数来控制工具的使用：\n",
    "- `tool_choice`: 强制选择某个工具来执行任务，如果为 `any` 则随机选择一个工具。\n",
    "- `parallel_tool_calls`: 是否使用多个工具，如果为 `true` 则使用多个工具，如果为 `False` 则最多使用一个工具。"
   ]
  },
  {
   "cell_type": "code",
   "execution_count": 8,
   "metadata": {},
   "outputs": [],
   "source": [
    "model_with_tools = llm.bind_tools([write_email], tool_choice=\"any\", parallel_tool_calls=False)\n",
    "\n",
    "output = model_with_tools.invoke(\"写一封邮件给张三，主题是关于项目进展，内容是：我们正在按照计划推进项目，预计下周完成。\")"
   ]
  },
  {
   "cell_type": "code",
   "execution_count": 9,
   "metadata": {},
   "outputs": [
    {
     "data": {
      "text/plain": [
       "langchain_core.messages.ai.AIMessage"
      ]
     },
     "execution_count": 9,
     "metadata": {},
     "output_type": "execute_result"
    }
   ],
   "source": [
    "type(output)"
   ]
  },
  {
   "cell_type": "code",
   "execution_count": 10,
   "metadata": {},
   "outputs": [
    {
     "data": {
      "text/plain": [
       "AIMessage(content='', additional_kwargs={'tool_calls': [{'id': 'call_3becfe557fa642d8ae65cf', 'function': {'arguments': '{\"content\": \"我们正在按照计划推进项目，预计下周完成。\", \"subject\": \"项目进展\", \"to\": \"张三\"}', 'name': 'write_email'}, 'type': 'function', 'index': 0}], 'refusal': None}, response_metadata={'token_usage': {'completion_tokens': 43, 'prompt_tokens': 199, 'total_tokens': 242, 'completion_tokens_details': None, 'prompt_tokens_details': None}, 'model_name': 'qwen-plus-2025-04-28', 'system_fingerprint': None, 'id': 'chatcmpl-723c2fd7-2399-9fc6-8f1f-ad9043057e7f', 'service_tier': None, 'finish_reason': 'tool_calls', 'logprobs': None}, id='run--ed3a4284-d3fc-44f0-a55a-fb0f64421f31-0', tool_calls=[{'name': 'write_email', 'args': {'content': '我们正在按照计划推进项目，预计下周完成。', 'subject': '项目进展', 'to': '张三'}, 'id': 'call_3becfe557fa642d8ae65cf', 'type': 'tool_call'}], usage_metadata={'input_tokens': 199, 'output_tokens': 43, 'total_tokens': 242, 'input_token_details': {}, 'output_token_details': {}})"
      ]
     },
     "execution_count": 10,
     "metadata": {},
     "output_type": "execute_result"
    }
   ],
   "source": [
    "output"
   ]
  },
  {
   "cell_type": "code",
   "execution_count": 11,
   "metadata": {},
   "outputs": [
    {
     "data": {
      "text/plain": [
       "{'content': '我们正在按照计划推进项目，预计下周完成。', 'subject': '项目进展', 'to': '张三'}"
      ]
     },
     "execution_count": 11,
     "metadata": {},
     "output_type": "execute_result"
    }
   ],
   "source": [
    "# 获取工具调用的参数\n",
    "args = output.tool_calls[0]['args']\n",
    "args"
   ]
  },
  {
   "cell_type": "markdown",
   "metadata": {},
   "source": [
    "通过`invoke()`方法执行工具调用"
   ]
  },
  {
   "cell_type": "code",
   "execution_count": 12,
   "metadata": {},
   "outputs": [
    {
     "data": {
      "text/plain": [
       "'邮件已发送给 张三，主题为 项目进展，内容为 我们正在按照计划推进项目，预计下周完成。'"
      ]
     },
     "execution_count": 12,
     "metadata": {},
     "output_type": "execute_result"
    }
   ],
   "source": [
    "result = write_email.invoke(args)\n",
    "result\n"
   ]
  },
  {
   "cell_type": "markdown",
   "metadata": {},
   "source": [
    "![basic_prompt](img/tool_call.png)\n",
    "\n",
    "通过这张图的左边部分，我们可以清晰的了解到工具调用的执行流程：\n",
    "- 用户输入+Prompt+工具描述 一起输入给LLM；\n",
    "- LLM决定使用哪个工具，并生成工具调用所需的参数；\n",
    "- 工具调用执行，并返回结果。\n",
    "\n",
    "通过这张图的右边部分，我们可以看出，单纯的基于Prompt的工具调用属于LLM应用的一个非常初级的形态，他的可预测性很强，但是缺少自主能力。"
   ]
  },
  {
   "cell_type": "markdown",
   "metadata": {},
   "source": [
    "## Workflows (工作流)\n",
    "\n",
    "[Workflows](https://langchain-ai.github.io/langgraph/tutorials/workflows/) 是创建LLM应用的另一种形态，它将预先定义的工作流与LLM结合起来，借助LLM的自主能力来优化工作流的执行。\n",
    "\n",
    "![workflow_example](img/workflow_example.png)\n",
    "从这张图的左边部分，可以拆解出workflow的执行流程：\n",
    "- 用户输入+路由Prompt输入到第一个LLM；\n",
    "- 第一个LLM判断下一步的执行步骤；\n",
    "- 如果 action 是 respond，则将用户输入+Prompt+工具描述输入给第二个LLM；\n",
    "- LLM决定使用哪个工具，并生成工具调用所需的参数；\n",
    "- 工具调用执行，并返回结果。\n",
    "\n",
    "从上面的流程中可以看出，通过第一个LLM的加入，增加了workflow的自主判断能力，从而使得workflow的执行更加灵活。\n",
    "\n",
    "图片的右边部分也很形象的给出了相比于单纯的基于Prompt的工具调用，workflow有着较弱的可预测性，但是有着更强的自主能力。\n"
   ]
  },
  {
   "cell_type": "markdown",
   "metadata": {},
   "source": [
    "## Agents (智能体)\n",
    "\n",
    "进一步增强LLM应用的自主能力，就到了Agents。\n",
    "\n",
    "Agents通常是通过循环调用工具来实现的，每次调用工具的结果会用来决定下一步该做什么，直到满足任务完成的条件。\n",
    "\n",
    "![agent_example](img/agent_example.png)\n",
    "\n",
    "相较于Workflows，Agents有着更强的自主能力，但是也更加难以预测它的执行流程。\n",
    "\n",
    "基于这一特点，Agents更适合处理开放性的问题，没有明确的解题步骤，或者解题步骤太多，以至于很难用Workflows来实现。\n",
    "\n",
    "Workflows 更适合那些可以提前轻松定义控制流程的场景。\n",
    "\n",
    "![workflow_v_agent](img/workflow_v_agent.png)\n"
   ]
  }
 ],
 "metadata": {
  "kernelspec": {
   "display_name": "agents-course",
   "language": "python",
   "name": "python3"
  },
  "language_info": {
   "codemirror_mode": {
    "name": "ipython",
    "version": 3
   },
   "file_extension": ".py",
   "mimetype": "text/x-python",
   "name": "python",
   "nbconvert_exporter": "python",
   "pygments_lexer": "ipython3",
   "version": "3.12.9"
  }
 },
 "nbformat": 4,
 "nbformat_minor": 2
}

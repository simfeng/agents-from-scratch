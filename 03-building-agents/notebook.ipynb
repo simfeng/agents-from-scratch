{
 "cells": [
  {
   "cell_type": "markdown",
   "id": "75359811",
   "metadata": {},
   "source": [
    "# Building Agents\n",
    "\n",
    "> 这一部分内容，我们将使用 LangGraph 构建第一个 AI Agent，如果你还不熟悉 LangGraph 和 Agent 是什么，请务必先熟悉之前的内容。\n",
    "\n",
    "我们要构建的 Agent 是一个邮件助手，可以帮助我们自动回复邮件，在需要的时候，会寻求人类的意见。邮件助手的架构图如下：\n",
    "\n",
    "![overview-img](img/overview.png)\n",
    "\n",
    "图中有以下几个部分：\n",
    "- **Agent(LangGraph)**： 本节要实现的内容，一个能自动分类邮件并进行回复的 agent，是我们要构建的整个 Agent 的一部分；\n",
    "- **Interrupt -> Human Feedback**：通过中断功能实现人类反馈，后续的章节会详细介绍；\n",
    "- **Memory(Updating)**：记忆功能，后续的章节会详细介绍；\n",
    "- **E-mail Response Draft & E-mail Service**：工具调用的模块。\n",
    "\n",
    "本章节将完成 **Agent(LangGraph)** 模块的内容。该模块分为两个部分：\n",
    "1. 路由模块（Router）负责分析邮件应该如何处理；\n",
    "2. 邮件回复模块（Response Agent）负责根据邮件分类的结果，回复邮件。"
   ]
  },
  {
   "cell_type": "markdown",
   "id": "5642c8bb",
   "metadata": {},
   "source": [
    "## 加载环境变量"
   ]
  },
  {
   "cell_type": "code",
   "execution_count": 3,
   "id": "cbe10914",
   "metadata": {},
   "outputs": [],
   "source": [
    "from dotenv import load_dotenv\n",
    "load_dotenv(\"../.env\")\n",
    "import os\n",
    "import sys\n",
    "sys.path.append(\"..\")\n",
    "\n",
    "model_name = os.getenv(\"OPENAI_MODEL\")\n",
    "model_provider = os.getenv(\"MODEL_PROVIDER\")"
   ]
  },
  {
   "cell_type": "markdown",
   "id": "42f2b635",
   "metadata": {},
   "source": [
    "## 定义工具（Tools）\n",
    "\n",
    "首先，我们要确定我们能使用的工具有哪些，将这些工具通过 `@tool` 装饰器来定义。"
   ]
  },
  {
   "cell_type": "code",
   "execution_count": 4,
   "id": "2ee73ddd",
   "metadata": {},
   "outputs": [],
   "source": [
    "from typing import Literal\n",
    "from datetime import datetime\n",
    "from pydantic import BaseModel\n",
    "from langchain_core.tools import tool"
   ]
  },
  {
   "cell_type": "markdown",
   "id": "eb13ad49",
   "metadata": {},
   "source": [
    "我们将定义4个工具，分别是：\n",
    "\n",
    "1. `write_email`：撰写并发送邮件\n",
    "2. `schedule_meeting`：制定会议日程\n",
    "3. `check_calendar_availability`：获取某一天的空闲时间\n",
    "4. `Done`：结束当前任务"
   ]
  },
  {
   "cell_type": "code",
   "execution_count": 37,
   "id": "f09a70ad",
   "metadata": {},
   "outputs": [],
   "source": [
    "@tool\n",
    "def write_email(to: str, subject: str, content: str) -> str:\n",
    "    \"\"\"Write and send an email.\"\"\"\n",
    "    # Placeholder response - in real app would send email\n",
    "    return f\"Email sent to {to} with subject '{subject}' and content: {content}\"\n",
    "\n",
    "@tool\n",
    "def schedule_meeting(\n",
    "    attendees: list[str], subject: str, duration_minutes: int, preferred_day: datetime, start_time: int\n",
    ") -> str:\n",
    "    \"\"\"Schedule a calendar meeting.\"\"\"\n",
    "    # Placeholder response - in real app would check calendar and schedule\n",
    "    date_str = preferred_day.strftime(\"%A, %B %d, %Y\")\n",
    "    return f\"Meeting '{subject}' scheduled on {date_str} at {start_time} for {duration_minutes} minutes with {len(attendees)} attendees\"\n",
    "\n",
    "@tool\n",
    "def check_calendar_availability(day: str) -> str:\n",
    "    \"\"\"Check calendar availability for a given day.\"\"\"\n",
    "    # Placeholder response - in real app would check actual calendar\n",
    "    return f\"Available times on {day}: 9:00 AM, 2:00 PM, 4:00 PM\"\n",
    "\n",
    "@tool\n",
    "class Done(BaseModel):\n",
    "      \"\"\"E-mail has been sent.\"\"\"\n",
    "      done: bool"
   ]
  },
  {
   "cell_type": "markdown",
   "id": "3163a232",
   "metadata": {},
   "source": [
    "仔细观察可以发现， `Done` 工具的作用是用于标记任务已经完成，并且它是通过 `pydantic.BaseModel` 来实现的，而不是通过普通函数。\n",
    "\n",
    "`BaseModel` 可以作为工具函数的原因是 LangChain 的 `@tool` 装饰器被设计为多态的，它能够智能地处理不同类型的输入（函数或类），并将它们统一转换为符合工具接口的对象。"
   ]
  },
  {
   "cell_type": "markdown",
   "id": "4e073568",
   "metadata": {},
   "source": [
    "## 构建邮件助手\n",
    "\n",
    "前面已经提到，我们要构建的初始版本的邮件助手包含两部分内容，一个 router 和一个 response_agent，这里的agent就是我们在01节介绍的agent，如下图右边所示，**agent就是一个不断通过调用工具与外部交互并获得反馈再进行决策的循环**。\n",
    "\n",
    "> 有很多人会觉得疑惑，我们不是要构建会自动处理邮件的 AI agent 吗，为什么这里已经包含一个agent了？这俩agent是一个意思吗？\n",
    "> 其实大家不用纠结agent这个概念，agent 就是一个能自主决策的工具，一个agent中可能包含另一个agent，把这个子agent当成一个工具来用。\n",
    "\n",
    "![agent_workflow_img](img/email_workflow.png)\n",
    "\n"
   ]
  },
  {
   "cell_type": "markdown",
   "id": "937dc28c",
   "metadata": {},
   "source": [
    "### 路由（Router）\n",
    "\n",
    "Router 的作用是根据输入内容判断，决定下一步该调用哪个模块来处理。需要注意的是，Router 模块只负责做这一件事，这也是一个非常好的设计习惯。\n",
    "\n",
    "#### State\n",
    "\n",
    "当我们使用 LangGraph 构建 agent 时，首先，需要明确哪些信息需要被记录下来，我们将使用 LangGraph 的预构建[`MessagesState` 对象](https://langchain-ai.github.io/langgraph/concepts/low_level/#messagesstate)，它只是一个带有 `messages` 字段的字典，该对象将节点返回的信息追加到`messages`列表中[作为其更新逻辑](https://langchain-ai.github.io/langgraph/concepts/low_level/#reducers)。为了追踪我们需要的其它信息，我们将创建一个自定义的 `State` 对象，继承自 `MessagesState`。\n",
    "\n"
   ]
  },
  {
   "cell_type": "code",
   "execution_count": 6,
   "id": "d87b8b4f",
   "metadata": {},
   "outputs": [],
   "source": [
    "from langgraph.graph import MessagesState\n",
    "\n",
    "class State(MessagesState):\n",
    "    email_input: dict\n",
    "    classification_decision: Literal[\"ignore\", \"respond\", \"notify\"]"
   ]
  },
  {
   "cell_type": "markdown",
   "id": "b35545aa",
   "metadata": {},
   "source": [
    "`State` 类中，我们添加了两个新的字段：\n",
    "- `email_input`: 用于存储输入的邮件信息\n",
    "- `classification_decision`: 用于存储 Router 的决策结果\n",
    "\n",
    "但是，不要忘记，`State` 类是继承自 `MessagesState` 的，所以它仍然保留了 `messages` 字段，用于存储对话历史。"
   ]
  },
  {
   "cell_type": "markdown",
   "id": "b2bffd46",
   "metadata": {},
   "source": [
    "### 分类节点（Triage node）\n",
    "\n",
    "我们会定义一个函数来实现这个功能。为了实现这个函数，我们将借助 Pydantic Model 来实现结构化输出（[structured outputs](https://python.langchain.com/docs/concepts/structured_outputs/)）。\n",
    "\n",
    "Pydantic Model 可以帮我们定义好数据的 schemas，并且提供类型提示和验证的功能。Pydantic Model 中的描述也很重要，因为这部分描述会被输入到大语言模型，用于让大模型做强制类型转换。"
   ]
  },
  {
   "cell_type": "code",
   "execution_count": 7,
   "id": "ef89f2ef",
   "metadata": {},
   "outputs": [],
   "source": [
    "from pydantic import BaseModel, Field\n",
    "from src.utils import parse_email, format_email_markdown\n",
    "from src.prompts import triage_system_prompt, triage_user_prompt, default_triage_instructions, default_background\n",
    "from langchain.chat_models import init_chat_model\n",
    "from langgraph.graph import END\n",
    "from langgraph.types import Command\n",
    "\n",
    "from IPython.display import Markdown"
   ]
  },
  {
   "cell_type": "markdown",
   "id": "654aefee",
   "metadata": {},
   "source": [
    "我们通过 `Markdown` 来看一下这些提示词。"
   ]
  },
  {
   "cell_type": "code",
   "execution_count": 47,
   "id": "28a50e34",
   "metadata": {},
   "outputs": [
    {
     "data": {
      "text/markdown": [
       "\n",
       "\n",
       "< Role >\n",
       "Your role is to triage incoming emails based upon instructs and background information below.\n",
       "</ Role >\n",
       "\n",
       "< Background >\n",
       "{background}. \n",
       "</ Background >\n",
       "\n",
       "< Instructions >\n",
       "Categorize each email into one of three categories:\n",
       "1. IGNORE - Emails that are not worth responding to or tracking\n",
       "2. NOTIFY - Important information that worth notification but doesn't require a response\n",
       "3. RESPOND - Emails that need a direct response\n",
       "Classify the below email into one of these categories.\n",
       "</ Instructions >\n",
       "\n",
       "< Rules >\n",
       "{triage_instructions}\n",
       "</ Rules >\n"
      ],
      "text/plain": [
       "<IPython.core.display.Markdown object>"
      ]
     },
     "execution_count": 47,
     "metadata": {},
     "output_type": "execute_result"
    }
   ],
   "source": [
    "# 分类节点系统提示词\n",
    "Markdown(triage_system_prompt)"
   ]
  },
  {
   "cell_type": "code",
   "execution_count": 48,
   "id": "1151e97b",
   "metadata": {},
   "outputs": [
    {
     "data": {
      "text/markdown": [
       "\n",
       "\n",
       "< Role >\n",
       "Your role is to triage incoming emails based upon instructs and background information below.\n",
       "</ Role >\n",
       "\n",
       "< Background >\n",
       "{background}. \n",
       "</ Background >\n",
       "\n",
       "< Instructions >\n",
       "Categorize each email into one of three categories:\n",
       "1. IGNORE - Emails that are not worth responding to or tracking\n",
       "2. NOTIFY - Important information that worth notification but doesn't require a response\n",
       "3. RESPOND - Emails that need a direct response\n",
       "Classify the below email into one of these categories.\n",
       "</ Instructions >\n",
       "\n",
       "< Rules >\n",
       "{triage_instructions}\n",
       "</ Rules >\n"
      ],
      "text/plain": [
       "<IPython.core.display.Markdown object>"
      ]
     },
     "execution_count": 48,
     "metadata": {},
     "output_type": "execute_result"
    }
   ],
   "source": [
    "# 分类节点用户提示词\n",
    "Markdown(triage_system_prompt)\n"
   ]
  },
  {
   "cell_type": "code",
   "execution_count": 49,
   "id": "b03158d5",
   "metadata": {},
   "outputs": [
    {
     "data": {
      "text/markdown": [
       " \n",
       "I'm Lance, a software engineer at LangChain.\n"
      ],
      "text/plain": [
       "<IPython.core.display.Markdown object>"
      ]
     },
     "execution_count": 49,
     "metadata": {},
     "output_type": "execute_result"
    }
   ],
   "source": [
    "# 默认的背景信息\n",
    "Markdown(default_background)"
   ]
  },
  {
   "cell_type": "code",
   "execution_count": 50,
   "id": "4da7635c",
   "metadata": {},
   "outputs": [
    {
     "data": {
      "text/markdown": [
       "\n",
       "Emails that are not worth responding to:\n",
       "- Marketing newsletters and promotional emails\n",
       "- Spam or suspicious emails\n",
       "- CC'd on FYI threads with no direct questions\n",
       "\n",
       "There are also other things that should be known about, but don't require an email response. For these, you should notify (using the `notify` response). Examples of this include:\n",
       "- Team member out sick or on vacation\n",
       "- Build system notifications or deployments\n",
       "- Project status updates without action items\n",
       "- Important company announcements\n",
       "- FYI emails that contain relevant information for current projects\n",
       "- HR Department deadline reminders\n",
       "- Subscription status / renewal reminders\n",
       "- GitHub notifications\n",
       "\n",
       "Emails that are worth responding to:\n",
       "- Direct questions from team members requiring expertise\n",
       "- Meeting requests requiring confirmation\n",
       "- Critical bug reports related to team's projects\n",
       "- Requests from management requiring acknowledgment\n",
       "- Client inquiries about project status or features\n",
       "- Technical questions about documentation, code, or APIs (especially questions about missing endpoints or features)\n",
       "- Personal reminders related to family (wife / daughter)\n",
       "- Personal reminder related to self-care (doctor appointments, etc)\n"
      ],
      "text/plain": [
       "<IPython.core.display.Markdown object>"
      ]
     },
     "execution_count": 50,
     "metadata": {},
     "output_type": "execute_result"
    }
   ],
   "source": [
    "# 默认的分类指示指令\n",
    "Markdown(default_triage_instructions)"
   ]
  },
  {
   "cell_type": "markdown",
   "id": "28b8e35b",
   "metadata": {},
   "source": [
    "我们定义了一个类 `RouterSchema` 来格式化大模型的输出，其中包含两个字段：\n",
    "- `reasoning`：分类邮件的推理过程\n",
    "- `classification`：邮件分类结果\n",
    "\n",
    "在实际处理的过程中，LangChain 会将这个类转换成一串 Prompt 发给大语言模型，这个提示词大概长这样：\n",
    "```\n",
    "You are to return a JSON object that matches the following schema:\n",
    "{\n",
    "  \"reasoning\": \"string\",\n",
    "  \"classification\": \"integer\"\n",
    "}\n",
    "```"
   ]
  },
  {
   "cell_type": "code",
   "execution_count": 8,
   "id": "f8ffa4bf",
   "metadata": {},
   "outputs": [],
   "source": [
    "class RouterSchema(BaseModel):\n",
    "    \"\"\"Analyze the unread email and route it according to its content.\"\"\"\n",
    "\n",
    "    reasoning: str = Field(\n",
    "        description=\"Step-by-step reasoning behind the classification.\"\n",
    "    )\n",
    "    classification: Literal[\"ignore\", \"respond\", \"notify\"] = Field(\n",
    "        description=\"The classification of an email: 'ignore' for irrelevant emails, \"\n",
    "        \"'notify' for important information that doesn't need a response, \"\n",
    "        \"'respond' for emails that need a reply\",\n",
    "    )\n"
   ]
  },
  {
   "cell_type": "markdown",
   "id": "c37f6bec",
   "metadata": {},
   "source": [
    "接下来，初始化 llm，并通过 `with_structured_output` 方法，来指定 llm 的输出格式。\n",
    "\n",
    "> **注意** `with_structured_output` 方法对 `qwen` 相关的模型并不支持，建议使用`openai` 的模型。如果实际项目中使用 qwen 的模型，可以添加一些方法来实现相同的功能。\n",
    "> 1. 将 `RouterSchema` 转成 prompt\n",
    "> 2. 将 llm 的输出转成 `RouterSchema` 的格式"
   ]
  },
  {
   "cell_type": "code",
   "execution_count": 9,
   "id": "dec56ab7",
   "metadata": {},
   "outputs": [],
   "source": [
    "llm = init_chat_model(model_name, model_provider=model_provider, temperature=0)\n",
    "llm_router = llm.with_structured_output(RouterSchema)"
   ]
  },
  {
   "cell_type": "markdown",
   "id": "7575e984",
   "metadata": {},
   "source": [
    "现在定义邮件分类节点，这个节点做的事，就是根据邮件内容，决定如何回复： respond, notify, or ignore\n",
    "\n",
    "代码中有几点说明一下：\n",
    "- 函数输出结果类型中的 `__end__` 实际上和 `END` 表示的内容一致，这里不用 `END` 是因为它是一个常量，这里不支持；\n",
    "- 使用了 `match-case` 语句代替了常用的 `if-else` 语句，这是 python 3.10 引入的新特性；\n",
    "- 函数返回的 `Command` 命令有两个作用，一是更新 state 信息，而是跳转到下一个节点。"
   ]
  },
  {
   "cell_type": "code",
   "execution_count": 25,
   "id": "9544f2f0",
   "metadata": {},
   "outputs": [],
   "source": [
    "def triage_router(state: State) -> Command[Literal[\"response_agent\", \"__end__\"]]:\n",
    "    \"\"\"Analyze email content to decide if we should respond, notify, or ignore.\"\"\"\n",
    "\n",
    "    # 从输入的邮件信息中提取对应的字段\n",
    "    author, to, subject, email_thread = parse_email(state[\"email_input\"])\n",
    "    \n",
    "    # 格式化完整的 system prompt\n",
    "    system_prompt = triage_system_prompt.format(\n",
    "        background=default_background,\n",
    "        triage_instructions=default_triage_instructions,\n",
    "    )\n",
    "\n",
    "    # 格式化完整的 user prompt\n",
    "    user_prompt = triage_user_prompt.format(\n",
    "        author=author,\n",
    "        to=to,\n",
    "        subject=subject,\n",
    "        email_thread=email_thread,\n",
    "    )\n",
    "\n",
    "    result = llm_router.invoke(\n",
    "        [\n",
    "            {\"role\": \"system\", \"content\": system_prompt},\n",
    "            {\"role\": \"user\", \"content\": user_prompt},\n",
    "        ]\n",
    "    )\n",
    "\n",
    "    print(\"=== result of llm_router ===\")\n",
    "    print(f\"type: {type(result)}\")\n",
    "    print(f\"resoning: {result.reasoning}\")\n",
    "    print(f\"classification: {result.classification}\", end='\\n')\n",
    "\n",
    "    match result.classification:\n",
    "        case \"respond\":\n",
    "            print(\"📧 Classification: RESPOND - This email requires a response\")\n",
    "            goto = \"response_agent\"\n",
    "            # 如果邮件需要回复，我们会在聊天记录中添加一条用户消息，用于提示 llm 回复邮件\n",
    "            update = {\n",
    "                \"messages\": [\n",
    "                    {\n",
    "                        \"role\": \"user\",\n",
    "                        \"content\": f\"Respond to the email: \\n\\n{format_email_markdown(subject, author, to, email_thread)}\",\n",
    "                    }\n",
    "                ],\n",
    "                \"classification_decision\": result.classification,\n",
    "            }\n",
    "        case \"ignore\":\n",
    "            print(\"🚫 Classification: IGNORE - This email can be safely ignored\")\n",
    "            goto = END\n",
    "            update = {\n",
    "                \"classification_decision\": result.classification,\n",
    "            }\n",
    "        case \"notify\":\n",
    "            print(\"🔔 Classification: NOTIFY - This email contains important information\")\n",
    "            # For now, we go to END. But we will add to this later!\n",
    "            goto = END\n",
    "            update = {\n",
    "                \"classification_decision\": result.classification,\n",
    "            }\n",
    "        case _:\n",
    "            raise ValueError(f\"Invalid classification: {result.classification}\")\n",
    "    return Command(goto=goto, update=update)"
   ]
  },
  {
   "cell_type": "markdown",
   "id": "6d1ca1b1",
   "metadata": {},
   "source": [
    "测试一下效果，主要关注一下 `llm_router` 输出的内容，以及整个函数的返回结果。"
   ]
  },
  {
   "cell_type": "code",
   "execution_count": 14,
   "id": "7a8d532f",
   "metadata": {},
   "outputs": [
    {
     "name": "stdout",
     "output_type": "stream",
     "text": [
      "=== result of llm_router === \n",
      "\n",
      "type: <class '__main__.RouterSchema'>\n",
      "resoning: The email provides an update on project progress, stating that it is on schedule and expected to be completed next week. This is important information for awareness but does not require a response.\n",
      "classification: notify\n",
      "🔔 Classification: NOTIFY - This email contains important information\n"
     ]
    },
    {
     "data": {
      "text/plain": [
       "Command(update={'classification_decision': 'notify'}, goto='__end__')"
      ]
     },
     "execution_count": 14,
     "metadata": {},
     "output_type": "execute_result"
    }
   ],
   "source": [
    "triage_router({\"email_input\": {\"author\": \"张三\", \"to\": \"李四\", \"subject\": \"项目进展\", \"email_thread\": \"我们正在按照计划推进项目，预计下周完成。\"}})"
   ]
  },
  {
   "cell_type": "markdown",
   "id": "77006a81",
   "metadata": {},
   "source": [
    "### Response Agent\n",
    "\n",
    "上面这部分代码构建好了分类 router，接下来，我们开始构建第二部分 response_agent。\n",
    "\n",
    "#### LLM Node\n",
    "\n",
    "首先，我们需要一个大模型节点充当“大脑”，用于决策。这个节点根据当前state内容，调用大模型，生成后续的内容。\n"
   ]
  },
  {
   "cell_type": "code",
   "execution_count": 11,
   "id": "634b5339",
   "metadata": {},
   "outputs": [],
   "source": [
    "from src.tools.default.prompt_templates import AGENT_TOOLS_PROMPT\n",
    "from src.prompts import agent_system_prompt, default_response_preferences, default_cal_preferences"
   ]
  },
  {
   "cell_type": "code",
   "execution_count": 16,
   "id": "78ef00e6",
   "metadata": {},
   "outputs": [
    {
     "data": {
      "text/markdown": [
       "\n",
       "1. write_email(to, subject, content) - Send emails to specified recipients\n",
       "2. schedule_meeting(attendees, subject, duration_minutes, preferred_day, start_time) - Schedule calendar meetings where preferred_day is a datetime object\n",
       "3. check_calendar_availability(day) - Check available time slots for a given day\n",
       "4. Done - E-mail has been sent\n"
      ],
      "text/plain": [
       "<IPython.core.display.Markdown object>"
      ]
     },
     "execution_count": 16,
     "metadata": {},
     "output_type": "execute_result"
    }
   ],
   "source": [
    "Markdown(AGENT_TOOLS_PROMPT)"
   ]
  },
  {
   "cell_type": "code",
   "execution_count": 17,
   "id": "3ac1acd3",
   "metadata": {},
   "outputs": [
    {
     "data": {
      "text/markdown": [
       "\n",
       "< Role >\n",
       "You are a top-notch executive assistant who cares about helping your executive perform as well as possible.\n",
       "</ Role >\n",
       "\n",
       "< Tools >\n",
       "You have access to the following tools to help manage communications and schedule:\n",
       "{tools_prompt}\n",
       "</ Tools >\n",
       "\n",
       "< Instructions >\n",
       "When handling emails, follow these steps:\n",
       "1. Carefully analyze the email content and purpose\n",
       "2. IMPORTANT --- always call a tool and call one tool at a time until the task is complete: \n",
       "3. For responding to the email, draft a response email with the write_email tool\n",
       "4. For meeting requests, use the check_calendar_availability tool to find open time slots\n",
       "5. To schedule a meeting, use the schedule_meeting tool with a datetime object for the preferred_day parameter\n",
       "   - Today's date is 2025-05-31 - use this for scheduling meetings accurately\n",
       "6. If you scheduled a meeting, then draft a short response email using the write_email tool\n",
       "7. After using the write_email tool, the task is complete\n",
       "8. If you have sent the email, then use the Done tool to indicate that the task is complete\n",
       "</ Instructions >\n",
       "\n",
       "< Background >\n",
       "{background}\n",
       "</ Background >\n",
       "\n",
       "< Response Preferences >\n",
       "{response_preferences}\n",
       "</ Response Preferences >\n",
       "\n",
       "< Calendar Preferences >\n",
       "{cal_preferences}\n",
       "</ Calendar Preferences >\n"
      ],
      "text/plain": [
       "<IPython.core.display.Markdown object>"
      ]
     },
     "execution_count": 17,
     "metadata": {},
     "output_type": "execute_result"
    }
   ],
   "source": [
    "Markdown(agent_system_prompt)"
   ]
  },
  {
   "cell_type": "code",
   "execution_count": 12,
   "id": "0fe41f88",
   "metadata": {},
   "outputs": [
    {
     "data": {
      "text/markdown": [
       "\n",
       "< Role >\n",
       "You are a top-notch executive assistant who cares about helping your executive perform as well as possible.\n",
       "</ Role >\n",
       "\n",
       "< Tools >\n",
       "You have access to the following tools to help manage communications and schedule:\n",
       "\n",
       "1. write_email(to, subject, content) - Send emails to specified recipients\n",
       "2. schedule_meeting(attendees, subject, duration_minutes, preferred_day, start_time) - Schedule calendar meetings where preferred_day is a datetime object\n",
       "3. check_calendar_availability(day) - Check available time slots for a given day\n",
       "4. Done - E-mail has been sent\n",
       "\n",
       "</ Tools >\n",
       "\n",
       "< Instructions >\n",
       "When handling emails, follow these steps:\n",
       "1. Carefully analyze the email content and purpose\n",
       "2. IMPORTANT --- always call a tool and call one tool at a time until the task is complete: \n",
       "3. For responding to the email, draft a response email with the write_email tool\n",
       "4. For meeting requests, use the check_calendar_availability tool to find open time slots\n",
       "5. To schedule a meeting, use the schedule_meeting tool with a datetime object for the preferred_day parameter\n",
       "   - Today's date is 2025-05-31 - use this for scheduling meetings accurately\n",
       "6. If you scheduled a meeting, then draft a short response email using the write_email tool\n",
       "7. After using the write_email tool, the task is complete\n",
       "8. If you have sent the email, then use the Done tool to indicate that the task is complete\n",
       "</ Instructions >\n",
       "\n",
       "< Background >\n",
       " \n",
       "I'm Lance, a software engineer at LangChain.\n",
       "\n",
       "</ Background >\n",
       "\n",
       "< Response Preferences >\n",
       "\n",
       "Use professional and concise language. If the e-mail mentions a deadline, make sure to explicitly acknowledge and reference the deadline in your response.\n",
       "\n",
       "When responding to technical questions that require investigation:\n",
       "- Clearly state whether you will investigate or who you will ask\n",
       "- Provide an estimated timeline for when you'll have more information or complete the task\n",
       "\n",
       "When responding to event or conference invitations:\n",
       "- Always acknowledge any mentioned deadlines (particularly registration deadlines)\n",
       "- If workshops or specific topics are mentioned, ask for more specific details about them\n",
       "- If discounts (group or early bird) are mentioned, explicitly request information about them\n",
       "- Don't commit \n",
       "\n",
       "When responding to collaboration or project-related requests:\n",
       "- Acknowledge any existing work or materials mentioned (drafts, slides, documents, etc.)\n",
       "- Explicitly mention reviewing these materials before or during the meeting\n",
       "- When scheduling meetings, clearly state the specific day, date, and time proposed\n",
       "\n",
       "When responding to meeting scheduling requests:\n",
       "- If times are proposed, verify calendar availability for all time slots mentioned in the original email and then commit to one of the proposed times based on your availability by scheduling the meeting. Or, say you can't make it at the time proposed.\n",
       "- If no times are proposed, then check your calendar for availability and propose multiple time options when available instead of selecting just one.\n",
       "- Mention the meeting duration in your response to confirm you've noted it correctly.\n",
       "- Reference the meeting's purpose in your response.\n",
       "\n",
       "</ Response Preferences >\n",
       "\n",
       "< Calendar Preferences >\n",
       "\n",
       "30 minute meetings are preferred, but 15 minute meetings are also acceptable.\n",
       "\n",
       "</ Calendar Preferences >\n"
      ],
      "text/plain": [
       "<IPython.core.display.Markdown object>"
      ]
     },
     "execution_count": 12,
     "metadata": {},
     "output_type": "execute_result"
    }
   ],
   "source": [
    "full_agent_system_prompt = agent_system_prompt.format(\n",
    "                        tools_prompt=AGENT_TOOLS_PROMPT,\n",
    "                        background=default_background,\n",
    "                        response_preferences=default_response_preferences,\n",
    "                        cal_preferences=default_cal_preferences, \n",
    "                    )\n",
    "Markdown(full_agent_system_prompt)"
   ]
  },
  {
   "cell_type": "code",
   "execution_count": 35,
   "id": "52037c0c",
   "metadata": {},
   "outputs": [],
   "source": [
    "# collect the tools\n",
    "tools = [write_email, schedule_meeting, check_calendar_availability, Done]\n",
    "tools_by_name = {tool.name: tool for tool in tools}\n",
    "\n",
    "# Initialize the llm and enforce tool use\n",
    "llm = init_chat_model(model_name, model_provider=model_provider, temperature=0)\n",
    "llm_with_tools = llm.bind_tools(tools, tool_choice=\"any\", parallel_tool_calls=False)\n",
    "\n",
    "\n",
    "def llm_call(state: State):\n",
    "    \"\"\"LLM decides whether call a tool or not\"\"\"\n",
    "\n",
    "    # Invoke the LLM\n",
    "    output = llm_with_tools.invoke(\n",
    "                # Add the system prompt\n",
    "                [   \n",
    "                    {\"role\": \"system\", \"content\": full_agent_system_prompt},\n",
    "                ]\n",
    "                # Add the current messages to the prompt\n",
    "                + state[\"messages\"]\n",
    "            )\n",
    "\n",
    "    return {\"messages\": [output]}"
   ]
  },
  {
   "cell_type": "markdown",
   "id": "f24008c6",
   "metadata": {},
   "source": [
    "#### 工具调用节点\n",
    "\n",
    "LLM 节点做出决策使用哪个工具后，需要一个 `tool_handler` 节点来调用工具。该节点调用工具，并将调用工具的结果更新到 state 中。"
   ]
  },
  {
   "cell_type": "code",
   "execution_count": null,
   "id": "cfebec50",
   "metadata": {},
   "outputs": [],
   "source": [
    "def tool_handler(state: State):\n",
    "    \"\"\"Perform the tool call.\"\"\"\n",
    "\n",
    "    # list for tool results\n",
    "    result = []\n",
    "\n",
    "    # iterate excute tool call\n",
    "    for tool_call in state[\"messages\"][-1].tool_calls:\n",
    "        tool_name = tool_call[\"name\"]\n",
    "        tool = tools_by_name[tool_name]\n",
    "        observation = tool.invoke(tool_call[\"args\"])\n",
    "        result.append({\n",
    "            \"role\": \"tool\",\n",
    "            \"content\": observation,\n",
    "            \"tool_call_id\": tool_call[\"id\"]\n",
    "        })\n",
    "\n",
    "    return {\"messages\": result}"
   ]
  },
  {
   "cell_type": "markdown",
   "id": "26b85c91",
   "metadata": {},
   "source": [
    "#### Conditional Routing\n",
    "\n",
    "条件路由节点帮助 agent 选择的功能，什么时候调用工具，什么时候结束任务。"
   ]
  },
  {
   "cell_type": "code",
   "execution_count": 30,
   "id": "8f97f48d",
   "metadata": {},
   "outputs": [],
   "source": [
    "def should_continue(state: State) -> Literal[\"tool_handler\", \"__end__\"]:\n",
    "    \"\"\"Route to tool handler, or end if Done tool called\"\"\"\n",
    "\n",
    "    # get the last message\n",
    "    messages = state[\"messages\"]\n",
    "    last_message = messages[-1]\n",
    "\n",
    "    # Check if it's a Done tool call\n",
    "    if last_message.tool_calls:\n",
    "        for tool_call in last_message.tool_calls: \n",
    "            if tool_call[\"name\"] == \"Done\":\n",
    "                return END\n",
    "            else:\n",
    "                return \"tool_handler\""
   ]
  },
  {
   "cell_type": "markdown",
   "id": "266d5b81",
   "metadata": {},
   "source": [
    "#### Agent Graph\n",
    "\n",
    "最后，我们把上述的所有组件都整合到一起，构建一个完整的 Agent Graph。"
   ]
  },
  {
   "cell_type": "code",
   "execution_count": 18,
   "id": "f3a45bf7",
   "metadata": {},
   "outputs": [],
   "source": [
    "from langgraph.graph import StateGraph, START, END\n",
    "from src.utils import show_graph"
   ]
  },
  {
   "cell_type": "code",
   "execution_count": 31,
   "id": "4a8c72ae",
   "metadata": {},
   "outputs": [],
   "source": [
    "# build workflow\n",
    "overall_workflow = StateGraph(State)\n",
    "\n",
    "# add node\n",
    "overall_workflow.add_node('llm_call', llm_call)\n",
    "overall_workflow.add_node('tool_handler', tool_handler)\n",
    "\n",
    "# add edge\n",
    "overall_workflow.add_edge(START, 'llm_call')\n",
    "overall_workflow.add_conditional_edges(\n",
    "    'llm_call',\n",
    "    should_continue,\n",
    "    {\n",
    "        \"tool_handler\": \"tool_handler\",\n",
    "        END: END\n",
    "    }\n",
    ")\n",
    "overall_workflow.add_edge('tool_handler', 'llm_call')\n",
    "\n",
    "# compile\n",
    "agent = overall_workflow.compile()"
   ]
  },
  {
   "cell_type": "code",
   "execution_count": 20,
   "id": "d5118a80",
   "metadata": {},
   "outputs": [
    {
     "data": {
      "image/png": "[encoded data removed]",
      "text/plain": [
       "<IPython.core.display.Image object>"
      ]
     },
     "execution_count": 20,
     "metadata": {},
     "output_type": "execute_result"
    }
   ],
   "source": [
    "show_graph(agent)"
   ]
  },
  {
   "cell_type": "markdown",
   "id": "6425add0",
   "metadata": {},
   "source": [
    "我们构建了一个 graph：\n",
    "1. 从 llm decision 开始\n",
    "2. 选择结束任务或者调用工具\n",
    "3. 调用工具的结果反馈给 llm decision 用于下次决策\n",
    "4. 重复执行直到任务完成或者达到最大工具调用次数"
   ]
  },
  {
   "cell_type": "markdown",
   "id": "748858fe",
   "metadata": {},
   "source": [
    "### 组合 Router 和 Response Agent\n",
    "\n",
    "接下来，将第一部分设计的 Router 与第二部分设计的 Agent 进行组合，得到一个完整的智能体。"
   ]
  },
  {
   "cell_type": "code",
   "execution_count": 32,
   "id": "43a54e57",
   "metadata": {},
   "outputs": [],
   "source": [
    "overall_workflow = (\n",
    "    StateGraph(State)\n",
    "    .add_node(triage_router)\n",
    "    .add_node('response_agent', agent)\n",
    "    .add_edge(START, \"triage_router\")\n",
    ").compile()"
   ]
  },
  {
   "cell_type": "code",
   "execution_count": 24,
   "id": "5eabf42e",
   "metadata": {},
   "outputs": [
    {
     "data": {
      "image/png": "[encoded data removed]",
      "text/plain": [
       "<IPython.core.display.Image object>"
      ]
     },
     "execution_count": 24,
     "metadata": {},
     "output_type": "execute_result"
    }
   ],
   "source": [
    "show_graph(overall_workflow, xray=True)"
   ]
  },
  {
   "cell_type": "markdown",
   "id": "b5d51e5b",
   "metadata": {},
   "source": [
    "`show_graph` 函数中我们通过添加 `xray=True` 参数，将子 agent 也展开显示了出来。通过这个图可以看出， agent 作为选项的一部分添加到了 triage_router 后，triage_router 是通过 `Command` 中的 goto 参数来决定去向的。\n",
    "- 如果邮件需要回复，则 goto `response_agent`，即 agent\n",
    "- 如果邮件不需要回复，则 goto `END`\n",
    "\n",
    "整体上看，整个流程如下：\n",
    "1. `triage_router` 分析邮件输入\n",
    "2. 如果有必要，`response_agent` 起草一份邮件\n",
    "3. 当 `triage_router` 决定邮件不需要回复时，或者 `response_agent` 已经完成任务时，流程结束"
   ]
  },
  {
   "cell_type": "markdown",
   "id": "b6426b11",
   "metadata": {},
   "source": [
    "## 测试\n",
    "\n",
    "### 测试用例\n",
    "\n",
    "第一个示例是一个通知邮件，不需要回复，直接从 triage_router 跳转到 END 节点。"
   ]
  },
  {
   "cell_type": "code",
   "execution_count": 27,
   "id": "c8c95385",
   "metadata": {},
   "outputs": [
    {
     "name": "stdout",
     "output_type": "stream",
     "text": [
      "=== result of llm_router ===\n",
      "type: <class '__main__.RouterSchema'>\n",
      "resoning: The email is providing important information about scheduled maintenance on the production database that will affect service availability. It does not require a response, but team members need to be informed so they can plan their work accordingly.\n",
      "classification: notify\n",
      "🔔 Classification: NOTIFY - This email contains important information\n"
     ]
    }
   ],
   "source": [
    "email_input = {\n",
    "    \"author\": \"System Admin <sysadmin@company.com>\",\n",
    "    \"to\": \"Development Team <dev@company.com>\",\n",
    "    \"subject\": \"Scheduled maintenance - database downtime\",\n",
    "    \"email_thread\": \"Hi team,\\n\\nThis is a reminder that we'll be performing scheduled maintenance on the production database tonight from 2AM to 4AM EST. During this time, all database services will be unavailable.\\n\\nPlease plan your work accordingly and ensure no critical deployments are scheduled during this window.\\n\\nThanks,\\nSystem Admin Team\"\n",
    "}\n",
    "\n",
    "# Run the agent\n",
    "response = overall_workflow.invoke({\"email_input\": email_input})\n",
    "for m in response[\"messages\"]:\n",
    "    m.pretty_print()"
   ]
  },
  {
   "cell_type": "markdown",
   "id": "78bc8e61",
   "metadata": {},
   "source": [
    "第二个例子是一个需要回复的邮件。"
   ]
  },
  {
   "cell_type": "code",
   "execution_count": null,
   "id": "2b284268",
   "metadata": {},
   "outputs": [],
   "source": [
    "email_input = {\n",
    "  \"author\": \"Alice Smith <alice.smith@company.com>\",\n",
    "  \"to\": \"John Doe <john.doe@company.com>\",\n",
    "  \"subject\": \"Quick question about API documentation\",\n",
    "  \"email_thread\": \"Hi John,\\nI was reviewing the API documentation for the new authentication service and noticed a few endpoints seem to be missing from the specs. Could you help clarify if this was intentional or if we should update the docs?\\nSpecifically, I'm looking at:\\n- /auth/refresh\\n- /auth/validate\\nThanks!\\nAlice\"\n",
    "}\n",
    "\n",
    "# Run the agent\n",
    "response = overall_workflow.invoke({\"email_input\": email_input})\n",
    "for m in response[\"messages\"]:\n",
    "    m.pretty_print()"
   ]
  },
  {
   "cell_type": "markdown",
   "id": "cca51aba",
   "metadata": {},
   "source": [
    "### langgraph cli 部署测试\n",
    "\n",
    "通过 langgraph cli 可以方便的本地进行部署和测试。\n",
    "\n",
    "首先，我们将所有的代码整理到 `../src/email_assistant.py` 文件中，然后在 `../langgraph.json` 中指定该文件作为入口，该文件是 langgraph cli 的配置文件。\n",
    "\n",
    "最后，执行 `langgraph cli` 的命令行命令，即可启动本地服务。\n",
    "\n",
    "```sh\n",
    "cd ../\n",
    "langgraph dev\n",
    "```\n",
    "\n",
    "![langgraph_dev_demo.png](./img/langgraph_dev_demo.png)\n",
    "\n",
    "如上图所示，服务启动后，在UI页面的左边输入框输入测试邮件内容\n",
    "```json\n",
    "{\n",
    "  \"author\": \"Alice Smith <alice.smith@company.com>\",\n",
    "  \"to\": \"John Doe <john.doe@company.com>\",\n",
    "  \"subject\": \"Quick question about API documentation\",\n",
    "  \"email_thread\": \"Hi John,\\nI was reviewing the API documentation for the new authentication service and noticed a few endpoints seem to be missing from the specs. Could you help clarify if this was intentional or if we should update the docs?\\nSpecifically, I'm looking at:\\n- /auth/refresh\\n- /auth/validate\\nThanks!\\nAlice\"\n",
    "}\n",
    "```\n",
    "\n",
    "点击提交后，稍等片刻即可在右侧看到执行的过程和结果。"
   ]
  }
 ],
 "metadata": {
  "kernelspec": {
   "display_name": "agents-course",
   "language": "python",
   "name": "python3"
  },
  "language_info": {
   "codemirror_mode": {
    "name": "ipython",
    "version": 3
   },
   "file_extension": ".py",
   "mimetype": "text/x-python",
   "name": "python",
   "nbconvert_exporter": "python",
   "pygments_lexer": "ipython3",
   "version": "3.12.9"
  }
 },
 "nbformat": 4,
 "nbformat_minor": 5
}

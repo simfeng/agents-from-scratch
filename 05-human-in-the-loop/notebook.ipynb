{
 "cells": [
  {
   "cell_type": "markdown",
   "id": "6a84b125",
   "metadata": {},
   "source": [
    "# Agents with Human-in-the-Loop\n",
    "\n",
    "前面的章节中，我们首先使用 langgraph 创建了一个邮件助手（email assistant），该助手有一个分类路由模块（triage router）和一个邮件回复模块（response agent）。紧接着，我们通过精心设计的测试用例对每个单独模块进行了单元测试，也对整个邮件助手进行了端到端测试。\n",
    "\n",
    "也许测试完成后，email assistant 的效果很好，但是面对邮件处理这样一项如此重要的任务，我们真的敢完全交给 AI 来自动处理吗？这个答案应该是否定的，人应该参与到这个事情的处理进程中来。\n",
    "\n",
    "下图是整个 Agent 的流程图，接下来我们要实现的功能就是图中高亮的部分 **人类反馈（Human Feedback）** 模块。\n",
    "![HITL overview ](img/overview_hitl.png)\n",
    "\n",
    "## Human in the Loop\n",
    "Human-in-the-loop (HITL）是早些年提出的一个机器学习领域用于人机协同的概念，Google Cloud 提供了关于 HITL 的解释：\n",
    "> 人机协同 (HITL) 机器学习是一种协作方法，它将人类输入和专业知识融入到机器学习 (ML) 和人工智能系统的生命周期中。人类参与机器学习模型的训练、评估或运行，提供有价值的指导、反馈和注释。通过这种协作，HITL 旨在结合人类和机器的独特优势，提高机器学习系统的准确性、可靠性和适应性。\n",
    "\n",
    "LangGraph 框架提供了对 Human-in-the-loop 理念的支持，通过中断（Interrupt）和持久化（Persistence）功能，可以让我们在任务执行过程中，适时的中断任务，等待人类的反馈，然后根据人类的反馈来决定下一步的任务执行。\n"
   ]
  },
  {
   "cell_type": "markdown",
   "id": "0562c630",
   "metadata": {},
   "source": [
    "## Adding HITL to out email assistant\n",
    "\n",
    "接下来，我们将会把 HITL 的能力加入到 agent 中。下图具体展示了需要用户提供反馈的节点：\n",
    "1. 对于通知类的邮件，在结束任务之前，需要确保用户已经收到通知；\n",
    "2. 对于需要回复的邮件，需要在发送邮件之前，让用户确认邮件内容。\n",
    "\n",
    "![HITL 示意图](img/hitl_schematic.png)"
   ]
  },
  {
   "cell_type": "code",
   "execution_count": 2,
   "id": "5e55bf6b",
   "metadata": {},
   "outputs": [],
   "source": [
    "from dotenv import load_dotenv\n",
    "load_dotenv(\"../.env\")\n",
    "import os\n",
    "import sys\n",
    "sys.path.append(\"..\")"
   ]
  },
  {
   "cell_type": "markdown",
   "id": "4fb5b67a",
   "metadata": {},
   "source": [
    "### Tools\n",
    "像之前的所有章节一样，我们需要先定义出所有能用的工具，因为这限定了 agent 的能力范围。\n",
    "\n",
    "不同的是，这里会比之前的邮件助手多定义一个工具，这个工具可以让 agent 向用户提问。"
   ]
  },
  {
   "cell_type": "code",
   "execution_count": 3,
   "id": "1605b7eb",
   "metadata": {},
   "outputs": [],
   "source": [
    "from typing import Literal\n",
    "from datetime import datetime\n",
    "from pydantic import BaseModel\n",
    "\n",
    "from langchain.chat_models import init_chat_model\n",
    "from langchain.tools import tool\n",
    "\n",
    "from langgraph.graph import StateGraph, START, END\n",
    "from langgraph.types import Command, interrupt\n",
    "\n",
    "from src.prompts import (triage_system_prompt, triage_user_prompt,\n",
    "                         default_triage_instructions,\n",
    "                         agent_system_prompt_hitl, default_background,\n",
    "                         default_response_preferences, default_cal_preferences)\n",
    "from src.tools.default.prompt_templates import HITL_TOOLS_PROMPT\n",
    "from src.schemas import State, RouterSchema, StateInput\n",
    "from src.utils import parse_email, format_for_display, format_email_markdown"
   ]
  },
  {
   "cell_type": "code",
   "execution_count": 4,
   "id": "a24fcc81",
   "metadata": {},
   "outputs": [
    {
     "data": {
      "text/html": [
       "<pre style=\"white-space:pre;overflow-x:auto;line-height:normal;font-family:Menlo,'DejaVu Sans Mono',consolas,'Courier New',monospace\">\n",
       "<span style=\"color: #808000; text-decoration-color: #808000; font-weight: bold\"> 1 </span>write_email(to, subject, content) - Send emails to specified recipients                                         \n",
       "<span style=\"color: #808000; text-decoration-color: #808000; font-weight: bold\"> 2 </span>schedule_meeting(attendees, subject, duration_minutes, preferred_day, start_time) - Schedule calendar meetings  \n",
       "<span style=\"color: #808000; text-decoration-color: #808000; font-weight: bold\">   </span>where preferred_day is a datetime object                                                                        \n",
       "<span style=\"color: #808000; text-decoration-color: #808000; font-weight: bold\"> 3 </span>check_calendar_availability(day) - Check available time slots for a given day                                   \n",
       "<span style=\"color: #808000; text-decoration-color: #808000; font-weight: bold\"> 4 </span>Question(content) - Ask the user any follow-up questions                                                        \n",
       "<span style=\"color: #808000; text-decoration-color: #808000; font-weight: bold\"> 5 </span>Done - E-mail has been sent                                                                                     \n",
       "</pre>\n"
      ],
      "text/plain": [
       "\n",
       "\u001b[1;33m 1 \u001b[0mwrite_email(to, subject, content) - Send emails to specified recipients                                         \n",
       "\u001b[1;33m 2 \u001b[0mschedule_meeting(attendees, subject, duration_minutes, preferred_day, start_time) - Schedule calendar meetings  \n",
       "\u001b[1;33m   \u001b[0mwhere preferred_day is a datetime object                                                                        \n",
       "\u001b[1;33m 3 \u001b[0mcheck_calendar_availability(day) - Check available time slots for a given day                                   \n",
       "\u001b[1;33m 4 \u001b[0mQuestion(content) - Ask the user any follow-up questions                                                        \n",
       "\u001b[1;33m 5 \u001b[0mDone - E-mail has been sent                                                                                     \n"
      ]
     },
     "execution_count": 4,
     "metadata": {},
     "output_type": "execute_result"
    }
   ],
   "source": [
    "from rich.markdown import Markdown\n",
    "Markdown(HITL_TOOLS_PROMPT)"
   ]
  },
  {
   "cell_type": "markdown",
   "id": "4733a06b",
   "metadata": {},
   "source": [
    "`HITL_TOOLS_PROMPT` 中说明了 agent 需要的5个工具，下面的代码将具体定义他们。"
   ]
  },
  {
   "cell_type": "code",
   "execution_count": 7,
   "id": "220a0220",
   "metadata": {},
   "outputs": [],
   "source": [
    "@tool\n",
    "def write_email(to: str, subject: str, content: str) -> str:\n",
    "    \"\"\"Write and send an email.\"\"\"\n",
    "    # Placeholder response - in real app would send email\n",
    "    return f\"Email sent to {to} with subject '{subject}' and content: {content}\"\n",
    "\n",
    "@tool\n",
    "def schedule_meeting(\n",
    "    attendees: list[str], subject: str, duration_minutes: int, preferred_day: datetime, start_time: int\n",
    ") -> str:\n",
    "    \"\"\"Schedule a calendar meeting.\"\"\"\n",
    "    # Placeholder response - in real app would check calendar and schedule\n",
    "    date_str = preferred_day.strftime(\"%A, %B %d, %Y\")\n",
    "    return f\"Meeting '{subject}' scheduled on {date_str} at {start_time} for {duration_minutes} minutes with {len(attendees)} attendees\"\n",
    "\n",
    "@tool\n",
    "def check_calendar_availability(day: str) -> str:\n",
    "    \"\"\"Check calendar availability for a given day.\"\"\"\n",
    "    # Placeholder response - in real app would check actual calendar\n",
    "    return f\"Available times on {day}: 9:00 AM, 2:00 PM, 4:00 PM\"\n",
    "\n",
    "@tool\n",
    "# This is new! \n",
    "class Question(BaseModel):\n",
    "      \"\"\"Question to ask user.\"\"\"\n",
    "      content: str\n",
    "    \n",
    "@tool\n",
    "class Done(BaseModel):\n",
    "      \"\"\"E-mail has been sent.\"\"\"\n",
    "      done: bool\n",
    "\n",
    "tools = [\n",
    "    write_email,\n",
    "    schedule_meeting,\n",
    "    check_calendar_availability,\n",
    "    Question,\n",
    "    Done,\n",
    "]"
   ]
  },
  {
   "cell_type": "markdown",
   "id": "8f5a213d",
   "metadata": {},
   "source": [
    "### LLMs\n",
    "初始化两个 LLMs，一个用于 triage router（通过 `RouterSchema` 格式化了输出），一个用于 response agent（添加了工具调用）。\n",
    "\n",
    "我们为两个 llm 选择了相同的模型，实际的项目中，可以根据效果、速度、成本等几个因素，选择不同的模型。"
   ]
  },
  {
   "cell_type": "code",
   "execution_count": 8,
   "id": "cd768032",
   "metadata": {},
   "outputs": [],
   "source": [
    "model_name = os.getenv(\"OPENAI_MODEL\")\n",
    "model_provider = os.getenv(\"MODEL_PROVIDER\")\n",
    "\n",
    "llm = init_chat_model(model_name, model_provider=model_provider, temperature=0.0)\n",
    "llm_router = llm.with_structured_output(RouterSchema)\n",
    "\n",
    "llm = init_chat_model(model_name, model_provider=model_provider, temperature=0.0)\n",
    "llm_with_tools = llm.bind_tools(tools, tool_choice=\"required\", parallel_tool_calls=False)"
   ]
  },
  {
   "cell_type": "markdown",
   "id": "334b7737",
   "metadata": {},
   "source": [
    "### Triage Node\n",
    "邮件分类节点（Triage node）就像我们之前实现的那样，负责分析邮件内容，决定邮件应该如何处理。与之前不同的是，对于分类为 `notify` 的邮件，我们需要中断 graph 的执行，允许用户来查看邮件内容。\n",
    "\n",
    "所以，在 triage node 之后，会加入一个新的节点 `triage_interrupt_node` 。"
   ]
  },
  {
   "cell_type": "code",
   "execution_count": 9,
   "id": "0fb3b5a7",
   "metadata": {},
   "outputs": [],
   "source": [
    "def triage_router(state: State) -> Command[Literal[\"triage_interrupt_handler\", \"response_agent\", \"__end__\"]]:\n",
    "    \"\"\"Analyze email content to decide if we should respond, notify, or ignore.\"\"\"\n",
    "\n",
    "    # Parse the email input\n",
    "    author, to, subject, email_thread = parse_email(state[\"email_input\"])\n",
    "    user_prompt = triage_user_prompt.format(\n",
    "        author=author, to=to, subject=subject, email_thread=email_thread\n",
    "    )\n",
    "\n",
    "    # Create email markdown for Agent Inbox in case of notification\n",
    "    email_markdown = format_email_markdown(subject, author, to, email_thread)\n",
    "\n",
    "    # Format system prompt with backgroud and triage instructions\n",
    "    system_prompt = triage_system_prompt.format(\n",
    "    \n",
    "        background=default_background,\n",
    "        triage_instructions=default_triage_instructions,\n",
    "    )\n",
    "\n",
    "    # Run the router LLM\n",
    "    result = llm_router.invoke({\n",
    "        [\n",
    "            {\"role\": \"system\", \"content\": system_prompt},\n",
    "            {\"role\": \"user\", \"content\": user_prompt},\n",
    "        ]\n",
    "    })\n",
    "\n",
    "    # Decision\n",
    "    classification = result.classification\n",
    "\n",
    "    # Process the classifiction decision\n",
    "    if classification == \"respond\":\n",
    "        print(\"📧 Classification: RESPOND - This email requires a response\")\n",
    "        # Next node\n",
    "        goto = \"response_agent\"\n",
    "        # Update the state\n",
    "        update = {\n",
    "            \"classification_decision\": result.classification,\n",
    "            \"messages\": [\n",
    "                {\n",
    "                    \"role\": \"user\",\n",
    "                    \"content\": f\"Respond to the email: \\n\\n{email_markdown}\",\n",
    "                }\n",
    "            ],\n",
    "        }\n",
    "    elif classification == \"ignore\":\n",
    "        print(\"📧 Classification: IGNORE - This email does not require a response\")\n",
    "        # Next node\n",
    "        goto = \"__end__\"\n",
    "        # Update the state\n",
    "        update = {\n",
    "            \"classification_decision\": result.classification,\n",
    "            \"messages\": [\n",
    "                {\n",
    "                    \"role\": \"user\",\n",
    "                    \"content\": f\"Ignore the email: \\n\\n{email_markdown}\",\n",
    "                }\n",
    "            ],\n",
    "        }\n",
    "    elif classification == \"notify\":\n",
    "        print(\"🔔 Classification: NOTIFY - This email contains important information\")\n",
    "        # This is NEW!\n",
    "        goto = \"triage_interrupt_handler\"\n",
    "        # Update the state\n",
    "        update = {\n",
    "            \"classification_decision\": result.classification,\n",
    "        }\n",
    "    else:\n",
    "        raise ValueError(f\"Invalid classification: {classification}\")\n",
    "    return Command(goto=goto, update=update)"
   ]
  },
  {
   "cell_type": "markdown",
   "id": "3a6d833b",
   "metadata": {},
   "source": [
    "### Triage Interrupt Handler\n",
    "\n",
    "如果邮件的分类是 `notify`, 我们就中断 graph ，如下图左边部分所示，中断之后，用户可以根据实际情况选择 `ignore` 或者 `respond`。\n",
    "![overview-img](img/HITL_flow_triage.png)\n",
    "\n",
    "为此，graph 中会加入一个新的 node，`triage_interrupt_handler`，它将会：\n",
    "1. 如果分类的结果是 `notify`, 将会中断，并将一个包含分类结果的 `dict` 展示给用户；\n",
    "2. 用户可以根据实际的邮件内容做出回应。\n",
    "\n",
    "为了使用好这些功能，LangChain 团队开发了 Agent Inbox，直译过来是智能体收件箱，用户所有需要与 agent 进行沟通的事情都会在这个收件箱中，方便用户追踪任何未完成的操作。\n",
    "\n",
    "_关于 Agent Inbox 的使用，我们会在后续的章节中详细介绍。_"
   ]
  },
  {
   "cell_type": "code",
   "execution_count": null,
   "id": "06c14edb",
   "metadata": {},
   "outputs": [],
   "source": [
    "def triage_interrupt_handler(state: State) -> Command[Literal[\"response_agent\", \"__end__\"]]:\n",
    "    \"\"\"Handles interrupts from the triage step.\"\"\""
   ]
  },
  {
   "cell_type": "markdown",
   "id": "6e52b298",
   "metadata": {},
   "source": [
    "### Response Agent with Interrupts"
   ]
  }
 ],
 "metadata": {
  "kernelspec": {
   "display_name": "agents-course",
   "language": "python",
   "name": "python3"
  },
  "language_info": {
   "codemirror_mode": {
    "name": "ipython",
    "version": 3
   },
   "file_extension": ".py",
   "mimetype": "text/x-python",
   "name": "python",
   "nbconvert_exporter": "python",
   "pygments_lexer": "ipython3",
   "version": "3.12.9"
  }
 },
 "nbformat": 4,
 "nbformat_minor": 5
}
